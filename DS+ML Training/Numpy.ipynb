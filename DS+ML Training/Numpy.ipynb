{
 "cells": [
  {
   "cell_type": "markdown",
   "metadata": {},
   "source": [
    ". Numpy-> Numerical python\n",
    ". Scipy-> Scientific python\n",
    "Scientific Programming: Deals with solving scientific and numerial problems with the help of computer\n",
    "Examples:\n",
    "Matlab,Fortran,Apl,Algol,Python(Numpy and scipy are libraries to do scientific programming in python)\n",
    "Why Numpy and Scipy?\n",
    "Basic scientific programming operations:\n",
    "1. Arrays\n",
    "2. Matrices\n",
    "3. Integration\n",
    "4. Differential equation solver\n",
    "5. Statistics\n",
    "But python doesn't have all these operations built-in execpt basic operations while these two libraries offers you that\n"
   ]
  },
  {
   "cell_type": "markdown",
   "metadata": {},
   "source": [
    "# Numpy\n",
    "Fundamental python package for python programming\n",
    "Contains tools and techniques to solve mathematical problems\n",
    "It is written in C and Python\n",
    "Operations by Numpy:\n",
    "Arrays\n",
    "Linear Algebra\n",
    "BroadCasting\n",
    "Random Number Generation\n",
    "# Similarities between list and numpy Array\n",
    "1. Storing Data\n",
    "2. Mutable\n",
    "3. can be indexed\n",
    "4. slicing\n",
    "# differences between list and numpy Array\n",
    "list can contains different data types\n",
    "array support only same data type"
   ]
  },
  {
   "cell_type": "code",
   "execution_count": 2,
   "metadata": {},
   "outputs": [
    {
     "data": {
      "text/plain": [
       "array([[ 0,  1,  2,  3],\n",
       "       [ 4,  5,  6,  7],\n",
       "       [ 8,  9, 10, 11],\n",
       "       [12, 13, 14, 15]])"
      ]
     },
     "execution_count": 2,
     "metadata": {},
     "output_type": "execute_result"
    }
   ],
   "source": [
    "import numpy as np\n",
    "a=np.arange(16).reshape(4,4)\n",
    "a"
   ]
  },
  {
   "cell_type": "code",
   "execution_count": 3,
   "metadata": {},
   "outputs": [
    {
     "data": {
      "text/plain": [
       "(4, 4)"
      ]
     },
     "execution_count": 3,
     "metadata": {},
     "output_type": "execute_result"
    }
   ],
   "source": [
    "a.shape"
   ]
  },
  {
   "cell_type": "code",
   "execution_count": 4,
   "metadata": {},
   "outputs": [
    {
     "data": {
      "text/plain": [
       "2"
      ]
     },
     "execution_count": 4,
     "metadata": {},
     "output_type": "execute_result"
    }
   ],
   "source": [
    "a.ndim"
   ]
  },
  {
   "cell_type": "code",
   "execution_count": 5,
   "metadata": {},
   "outputs": [
    {
     "data": {
      "text/plain": [
       "'int32'"
      ]
     },
     "execution_count": 5,
     "metadata": {},
     "output_type": "execute_result"
    }
   ],
   "source": [
    "a.dtype.name"
   ]
  },
  {
   "cell_type": "code",
   "execution_count": 6,
   "metadata": {},
   "outputs": [
    {
     "data": {
      "text/plain": [
       "16"
      ]
     },
     "execution_count": 6,
     "metadata": {},
     "output_type": "execute_result"
    }
   ],
   "source": [
    "a.size"
   ]
  },
  {
   "cell_type": "code",
   "execution_count": 7,
   "metadata": {},
   "outputs": [
    {
     "data": {
      "text/plain": [
       "numpy.ndarray"
      ]
     },
     "execution_count": 7,
     "metadata": {},
     "output_type": "execute_result"
    }
   ],
   "source": [
    "type(a)"
   ]
  },
  {
   "cell_type": "code",
   "execution_count": 8,
   "metadata": {},
   "outputs": [
    {
     "data": {
      "text/plain": [
       "array([6, 7, 8])"
      ]
     },
     "execution_count": 8,
     "metadata": {},
     "output_type": "execute_result"
    }
   ],
   "source": [
    "b=np.array([6,7,8])\n",
    "b"
   ]
  },
  {
   "cell_type": "code",
   "execution_count": 9,
   "metadata": {},
   "outputs": [
    {
     "data": {
      "text/plain": [
       "numpy.ndarray"
      ]
     },
     "execution_count": 9,
     "metadata": {},
     "output_type": "execute_result"
    }
   ],
   "source": [
    "type(b)"
   ]
  },
  {
   "cell_type": "code",
   "execution_count": 10,
   "metadata": {},
   "outputs": [
    {
     "data": {
      "text/plain": [
       "array([1, 2, 3])"
      ]
     },
     "execution_count": 10,
     "metadata": {},
     "output_type": "execute_result"
    }
   ],
   "source": [
    "# Array Creation\n",
    "a=np.array([1,2,3])\n",
    "a"
   ]
  },
  {
   "cell_type": "code",
   "execution_count": 13,
   "metadata": {},
   "outputs": [
    {
     "name": "stdout",
     "output_type": "stream",
     "text": [
      "<class 'numpy.ndarray'>\n"
     ]
    },
    {
     "data": {
      "text/plain": [
       "dtype('int32')"
      ]
     },
     "execution_count": 13,
     "metadata": {},
     "output_type": "execute_result"
    }
   ],
   "source": [
    "print(type(a))\n",
    "a.dtype"
   ]
  },
  {
   "cell_type": "code",
   "execution_count": 19,
   "metadata": {},
   "outputs": [
    {
     "name": "stdout",
     "output_type": "stream",
     "text": [
      "[[1.  2.  3. ]\n",
      " [4.4 5.5 6.6]]\n",
      "[[ 1.5  2.   3. ]\n",
      " [ 8.   9.9 10. ]]\n"
     ]
    }
   ],
   "source": [
    "c=np.array([(1,2,3),(4.4,5.5,6.6)])\n",
    "print(c)\n",
    "d=np.array([(1.5,2,3),(8,9.9,10)])\n",
    "print(d)"
   ]
  },
  {
   "cell_type": "code",
   "execution_count": 33,
   "metadata": {},
   "outputs": [
    {
     "name": "stdout",
     "output_type": "stream",
     "text": [
      "[[ 0  1  2  3  4]\n",
      " [ 5  6  7  8  9]\n",
      " [10 11 12 13 14]]\n",
      "[[ 0  1  2  3  4]\n",
      " [ 5  6  7  8  9]\n",
      " [10 11 12 13 14]]\n",
      "[[ 0  1  2  3  4]\n",
      " [ 5  6  7  8  9]\n",
      " [10 11 12 13 14]]\n",
      "[[ 0  1  3  6 10]\n",
      " [ 5 11 18 26 35]\n",
      " [10 21 33 46 60]]\n"
     ]
    }
   ],
   "source": [
    "e=np.arange(15).reshape(3,5)\n",
    "print(e)\n",
    "e.sum(axis=0)\n",
    "print(e)\n",
    "e.min(axis=1)\n",
    "print(e)\n",
    "f=e.cumsum(axis=1)\n",
    "print(f)\n"
   ]
  },
  {
   "cell_type": "markdown",
   "metadata": {},
   "source": [
    "# Universal Functions"
   ]
  },
  {
   "cell_type": "code",
   "execution_count": 41,
   "metadata": {},
   "outputs": [
    {
     "name": "stdout",
     "output_type": "stream",
     "text": [
      "[[0 1 2]\n",
      " [3 4 5]]\n",
      "Exponential\n",
      "[[  1.           2.71828183   7.3890561 ]\n",
      " [ 20.08553692  54.59815003 148.4131591 ]]\n",
      "Square Root\n",
      "[[0.         1.         1.41421356]\n",
      " [1.73205081 2.         2.23606798]]\n",
      "[[1 2 3]\n",
      " [6 5 4]]\n",
      "Add\n",
      "[[1 3 5]\n",
      " [9 9 9]]\n",
      "False\n"
     ]
    }
   ],
   "source": [
    "g=np.arange(6).reshape(2,3)\n",
    "print(g)\n",
    "print(\"Exponential\")\n",
    "print(np.exp(g))\n",
    "print(\"Square Root\")\n",
    "print(np.sqrt(g))\n",
    "h=np.array([(1,2,3),(6,5,4)])\n",
    "print(h)\n",
    "print(\"Add\")\n",
    "print(np.add(g,h))\n",
    "# Remaining Functions yet to try"
   ]
  },
  {
   "cell_type": "markdown",
   "metadata": {},
   "source": [
    "# Indexing + Slicing + Iterating"
   ]
  },
  {
   "cell_type": "code",
   "execution_count": 68,
   "metadata": {},
   "outputs": [
    {
     "name": "stdout",
     "output_type": "stream",
     "text": [
      "[ 0  3  6  9 12]\n",
      "[ 0  1  8 27 64]\n",
      "8\n",
      "[[0 1]\n",
      " [2 3]\n",
      " [4 5]]\n",
      "[4 5]\n",
      "5\n",
      "[ 0  1  4  9 16 25 36 49 64 81]\n",
      "[ 0  1  4  9 16 25]\n",
      "[25 36 49 64 81]\n",
      "[ 0  4 16]\n",
      "[500   1 500   9 500  25  36  49  64  81]\n",
      "[ 81  64  49  36  25 500   9 500   1 500]\n"
     ]
    }
   ],
   "source": [
    "i=np.arange(5)*3\n",
    "print(i)\n",
    "i=np.arange(5)**3\n",
    "print(i)\n",
    "print(i[2])\n",
    "j=np.arange(6).reshape(3,2)\n",
    "print(j)\n",
    "print(j[2])\n",
    "print(j[2][1])\n",
    "k=np.arange(10)**2\n",
    "print(k)\n",
    "print(k[0:6])\n",
    "print(k[5:11])\n",
    "print(k[0:6:2])\n",
    "k[0:6:2]=500\n",
    "print(k)\n",
    "print(k[::-1])\n"
   ]
  },
  {
   "cell_type": "code",
   "execution_count": 72,
   "metadata": {},
   "outputs": [
    {
     "data": {
      "text/plain": [
       "array([[0, 0, 0, 0, 0],\n",
       "       [1, 1, 1, 1, 1],\n",
       "       [2, 2, 2, 2, 2],\n",
       "       [3, 3, 3, 3, 3],\n",
       "       [4, 4, 4, 4, 4]])"
      ]
     },
     "execution_count": 72,
     "metadata": {},
     "output_type": "execute_result"
    }
   ],
   "source": [
    "def f(x,y):\n",
    "    return x\n",
    "\n",
    "l=np.fromfunction(f,(5,5),dtype=int)\n",
    "l\n",
    "    "
   ]
  },
  {
   "cell_type": "code",
   "execution_count": null,
   "metadata": {},
   "outputs": [],
   "source": []
  }
 ],
 "metadata": {
  "kernelspec": {
   "display_name": "Python 3",
   "language": "python",
   "name": "python3"
  },
  "language_info": {
   "codemirror_mode": {
    "name": "ipython",
    "version": 3
   },
   "file_extension": ".py",
   "mimetype": "text/x-python",
   "name": "python",
   "nbconvert_exporter": "python",
   "pygments_lexer": "ipython3",
   "version": "3.7.4"
  }
 },
 "nbformat": 4,
 "nbformat_minor": 2
}
